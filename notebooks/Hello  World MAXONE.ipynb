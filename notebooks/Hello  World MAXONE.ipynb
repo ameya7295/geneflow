{
 "cells": [
  {
   "cell_type": "code",
   "execution_count": 1,
   "metadata": {},
   "outputs": [],
   "source": [
    "%load_ext autoreload\n",
    "%autoreload 2"
   ]
  },
  {
   "cell_type": "code",
   "execution_count": 2,
   "metadata": {},
   "outputs": [
    {
     "name": "stderr",
     "output_type": "stream",
     "text": [
      "Using cupy backend\n"
     ]
    }
   ],
   "source": [
    "from geneflow import GeneFlow\n",
    "from geneflow.selection import SelectFittest\n",
    "from geneflow.population import genRandIntPopulation\n",
    "from geneflow.fitness import Sum\n",
    "from geneflow.ops import Input, RandomMutations1D, UniformCrossover1D"
   ]
  },
  {
   "cell_type": "code",
   "execution_count": 3,
   "metadata": {},
   "outputs": [],
   "source": [
    "NUM_EVOLUTIONS = 7\n",
    "POPULATION_SIZE = 512 \n",
    "CHROMOSOME_SIZE = 1024\n",
    "\n",
    "SHAPE = (POPULATION_SIZE, CHROMOSOME_SIZE)"
   ]
  },
  {
   "cell_type": "code",
   "execution_count": 4,
   "metadata": {},
   "outputs": [],
   "source": [
    "# generate an randon population\n",
    "population = genRandIntPopulation(SHAPE, max_value=1)"
   ]
  },
  {
   "cell_type": "code",
   "execution_count": 5,
   "metadata": {},
   "outputs": [],
   "source": [
    "# basic evolution graph\n",
    "inputs = Input(shape=(SHAPE))\n",
    "x = RandomMutations1D(max_gene_value=1, min_gene_value=0)(inputs)\n",
    "outputs = UniformCrossover1D()(x)"
   ]
  },
  {
   "cell_type": "code",
   "execution_count": 6,
   "metadata": {
    "scrolled": true
   },
   "outputs": [
    {
     "name": "stdout",
     "output_type": "stream",
     "text": [
      "OP (type)                                       Output Shape    Inputs\n",
      "----------------------------------------------  --------------  ------------------------\n",
      "input_46E735 (Input)                            (512, 1024)\n",
      "randommutations1d_2FAD07 (RandomMutations1D)    []              input_46E735\n",
      "uniformcrossover1d_9A6841 (UniformCrossover1D)  []              randommutations1d_2FAD07\n"
     ]
    }
   ],
   "source": [
    "gf = GeneFlow(inputs, outputs)\n",
    "gf.summary()"
   ]
  },
  {
   "cell_type": "code",
   "execution_count": 7,
   "metadata": {},
   "outputs": [],
   "source": [
    "fitness_function = Sum(max_sum_value=CHROMOSOME_SIZE)\n",
    "evolution_strategy = SelectFittest()\n",
    "gf.compile(evolution_strategy, fitness_function)"
   ]
  },
  {
   "cell_type": "code",
   "execution_count": 8,
   "metadata": {},
   "outputs": [
    {
     "data": {
      "application/vnd.jupyter.widget-view+json": {
       "model_id": "25bbb8b061104b4581a80df27059b07e",
       "version_major": 2,
       "version_minor": 0
      },
      "text/plain": [
       "HBox(children=(IntProgress(value=0, max=7), HTML(value='')))"
      ]
     },
     "metadata": {},
     "output_type": "display_data"
    },
    {
     "name": "stdout",
     "output_type": "stream",
     "text": [
      "\n"
     ]
    }
   ],
   "source": [
    "results = gf.evolve(population, num_evolutions=NUM_EVOLUTIONS)"
   ]
  },
  {
   "cell_type": "code",
   "execution_count": 9,
   "metadata": {},
   "outputs": [
    {
     "name": "stdout",
     "output_type": "stream",
     "text": [
      "  fit score  genes [:20]\n",
      "-----------  --------------------------------------------\n",
      "   0.999023  1 1 1 1 1 1 1 1 1 1 1 1 1 1 1 1 1 1 1 1  ...\n",
      "   0.998047  1 1 1 1 1 1 1 1 1 1 1 1 1 1 1 1 1 1 1 1  ...\n",
      "   0.998047  1 1 1 1 1 1 1 1 1 1 1 1 1 1 1 1 1 1 1 1  ...\n",
      "   0.998047  1 1 1 1 1 1 1 1 1 1 1 0 1 1 1 1 1 1 1 1  ...\n",
      "   0.998047  1 1 1 1 1 1 1 1 1 1 1 1 1 1 1 1 1 1 1 1  ...\n",
      "   0.99707   1 1 1 1 1 1 1 1 1 1 1 1 1 1 1 1 1 1 1 1  ...\n",
      "   0.99707   1 1 1 1 1 1 1 1 1 1 1 1 1 1 1 1 1 1 1 1  ...\n",
      "   0.99707   1 1 1 1 1 1 1 1 1 1 1 1 1 1 1 1 1 1 1 1  ...\n",
      "   0.99707   1 1 1 1 1 1 1 1 1 1 1 1 1 1 1 1 1 1 1 1  ...\n",
      "   0.99707   1 1 1 1 1 1 1 1 1 1 1 1 1 1 1 1 1 1 1 1  ...\n"
     ]
    }
   ],
   "source": [
    "results.display_populations(top_k=10, precision=0)"
   ]
  },
  {
   "cell_type": "code",
   "execution_count": 11,
   "metadata": {},
   "outputs": [
    {
     "name": "stderr",
     "output_type": "stream",
     "text": [
      "[autoreload of geneflow.backend failed: Traceback (most recent call last):\n",
      "  File \"c:\\users\\elie\\appdata\\local\\programs\\python\\python36\\lib\\site-packages\\IPython\\extensions\\autoreload.py\", line 244, in check\n",
      "    superreload(m, reload, self.old_objects)\n",
      "  File \"c:\\users\\elie\\appdata\\local\\programs\\python\\python36\\lib\\site-packages\\IPython\\extensions\\autoreload.py\", line 376, in superreload\n",
      "    module = reload(module)\n",
      "  File \"c:\\users\\elie\\appdata\\local\\programs\\python\\python36\\lib\\imp.py\", line 315, in reload\n",
      "    return importlib.reload(module)\n",
      "  File \"c:\\users\\elie\\appdata\\local\\programs\\python\\python36\\lib\\importlib\\__init__.py\", line 166, in reload\n",
      "    _bootstrap._exec(spec, module)\n",
      "  File \"<frozen importlib._bootstrap>\", line 618, in _exec\n",
      "  File \"<frozen importlib._bootstrap_external>\", line 678, in exec_module\n",
      "  File \"<frozen importlib._bootstrap>\", line 219, in _call_with_frames_removed\n",
      "  File \"d:\\code\\geneflow\\geneflow\\backend\\__init__.py\", line 38, in <module>\n",
      "    from .load_backend import as_numpy_array  # noqa: F401\n",
      "ImportError: cannot import name 'as_numpy_array'\n",
      "]\n"
     ]
    },
    {
     "data": {
      "image/png": "[encoded data removed]",
      "text/plain": [
       "<Figure size 432x288 with 1 Axes>"
      ]
     },
     "metadata": {
      "needs_background": "light"
     },
     "output_type": "display_data"
    },
    {
     "data": {
      "image/png": "[encoded data removed]",
      "text/plain": [
       "<Figure size 432x288 with 1 Axes>"
      ]
     },
     "metadata": {
      "needs_background": "light"
     },
     "output_type": "display_data"
    }
   ],
   "source": [
    "results.plot_metrics()"
   ]
  }
 ],
 "metadata": {
  "kernelspec": {
   "display_name": "Python 3",
   "language": "python",
   "name": "python3"
  },
  "language_info": {
   "codemirror_mode": {
    "name": "ipython",
    "version": 3
   },
   "file_extension": ".py",
   "mimetype": "text/x-python",
   "name": "python",
   "nbconvert_exporter": "python",
   "pygments_lexer": "ipython3",
   "version": "3.6.7rc1"
  }
 },
 "nbformat": 4,
 "nbformat_minor": 2
}
