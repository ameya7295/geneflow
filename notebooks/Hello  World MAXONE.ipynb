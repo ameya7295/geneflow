{
 "cells": [
  {
   "cell_type": "code",
   "execution_count": 1,
   "metadata": {},
   "outputs": [],
   "source": [
    "%load_ext autoreload\n",
    "%autoreload 2"
   ]
  },
  {
   "cell_type": "code",
   "execution_count": 2,
   "metadata": {},
   "outputs": [
    {
     "name": "stderr",
     "output_type": "stream",
     "text": [
      "Using cupy backend\n"
     ]
    }
   ],
   "source": [
    "from geneflow import GeneFlow\n",
    "from geneflow.ops import RandomInputs, RandomMutations1D, UniformCrossover1D\n",
    "from geneflow.selection import SelectFittest\n",
    "from geneflow.fitness import SumGenes"
   ]
  },
  {
   "cell_type": "code",
   "execution_count": 42,
   "metadata": {},
   "outputs": [],
   "source": [
    "NUM_EVOLUTIONS = 7\n",
    "POPULATION_SIZE = 512 \n",
    "GENE_SIZE = 1024"
   ]
  },
  {
   "cell_type": "code",
   "execution_count": 43,
   "metadata": {},
   "outputs": [],
   "source": [
    "# basic evolution graph\n",
    "inputs = RandomInputs((POPULATION_SIZE, GENE_SIZE), max_value=1)\n",
    "x = RandomMutations1D(max_gene_value=1, min_gene_value=0)(inputs)\n",
    "outputs = UniformCrossover1D()(x)"
   ]
  },
  {
   "cell_type": "code",
   "execution_count": 44,
   "metadata": {},
   "outputs": [
    {
     "name": "stdout",
     "output_type": "stream",
     "text": [
      "OP (type)                                       Output Shape    Inputs\n",
      "----------------------------------------------  --------------  ------------------------\n",
      "randominputs_27DC7C (RandomInputs)              (512, 1024)\n",
      "randommutations1d_2D9B01 (RandomMutations1D)    []              randominputs_27DC7C\n",
      "uniformcrossover1d_7B363E (UniformCrossover1D)  []              randommutations1d_2D9B01\n"
     ]
    }
   ],
   "source": [
    "gf = GeneFlow(inputs, outputs)\n",
    "gf.summary()"
   ]
  },
  {
   "cell_type": "code",
   "execution_count": 45,
   "metadata": {},
   "outputs": [],
   "source": [
    "fitness_function = SumGenes(expected_max_value=GENE_SIZE)\n",
    "evolution_strategy = SelectFittest()\n",
    "gf.compile(evolution_strategy, fitness_function)"
   ]
  },
  {
   "cell_type": "code",
   "execution_count": 46,
   "metadata": {},
   "outputs": [
    {
     "data": {
      "application/vnd.jupyter.widget-view+json": {
       "model_id": "0c8f2f495c204eb091cabd4c5326655b",
       "version_major": 2,
       "version_minor": 0
      },
      "text/plain": [
       "HBox(children=(IntProgress(value=0, max=7), HTML(value='')))"
      ]
     },
     "metadata": {},
     "output_type": "display_data"
    },
    {
     "name": "stdout",
     "output_type": "stream",
     "text": [
      "\n"
     ]
    }
   ],
   "source": [
    "results = gf.evolve(num_evolutions=NUM_EVOLUTIONS)"
   ]
  },
  {
   "cell_type": "code",
   "execution_count": 56,
   "metadata": {},
   "outputs": [
    {
     "name": "stdout",
     "output_type": "stream",
     "text": [
      "  fit score  genes [:20]\n",
      "-----------  --------------------------------------------\n",
      "   1         1 1 1 1 1 1 1 1 1 1 1 1 1 1 1 1 1 1 1 1  ...\n",
      "   1         1 1 1 1 1 1 1 1 1 1 1 1 1 1 1 1 1 1 1 1  ...\n",
      "   1         1 1 1 1 1 1 1 1 1 1 1 1 1 1 1 1 1 1 1 1  ...\n",
      "   0.999023  1 1 1 1 1 1 1 1 1 1 1 1 1 1 1 1 1 1 1 1  ...\n",
      "   0.999023  1 1 1 1 1 1 1 1 1 1 1 1 1 1 1 1 1 1 1 1  ...\n",
      "   0.999023  1 1 1 1 1 1 1 1 1 1 1 1 1 1 1 1 1 1 1 1  ...\n",
      "   0.999023  1 1 1 1 1 1 1 1 1 1 1 1 1 1 1 1 1 1 1 1  ...\n",
      "   0.999023  1 1 1 1 1 1 1 1 1 1 1 1 1 1 1 1 1 1 1 1  ...\n",
      "   0.999023  1 1 1 1 1 1 1 1 1 1 1 1 1 1 1 1 1 1 1 1  ...\n",
      "   0.999023  1 1 1 1 1 1 1 1 1 1 1 1 1 1 1 1 1 1 1 1  ...\n"
     ]
    }
   ],
   "source": [
    "results.display_populations(top_k=10, precision=0)"
   ]
  },
  {
   "cell_type": "code",
   "execution_count": 50,
   "metadata": {},
   "outputs": [
    {
     "data": {
      "image/png": "[encoded data removed]",
      "text/plain": [
       "<Figure size 432x288 with 1 Axes>"
      ]
     },
     "metadata": {
      "needs_background": "light"
     },
     "output_type": "display_data"
    },
    {
     "data": {
      "image/png": "[encoded data removed]",
      "text/plain": [
       "<Figure size 432x288 with 1 Axes>"
      ]
     },
     "metadata": {
      "needs_background": "light"
     },
     "output_type": "display_data"
    }
   ],
   "source": [
    "results.plot_metrics()"
   ]
  }
 ],
 "metadata": {
  "kernelspec": {
   "display_name": "Python 3",
   "language": "python",
   "name": "python3"
  },
  "language_info": {
   "codemirror_mode": {
    "name": "ipython",
    "version": 3
   },
   "file_extension": ".py",
   "mimetype": "text/x-python",
   "name": "python",
   "nbconvert_exporter": "python",
   "pygments_lexer": "ipython3",
   "version": "3.6.7rc1"
  }
 },
 "nbformat": 4,
 "nbformat_minor": 2
}
